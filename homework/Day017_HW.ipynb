{
 "cells": [
  {
   "cell_type": "markdown",
   "metadata": {},
   "source": [
    "# HTTP 動態網頁架構說明\n",
    "\n",
    "\n",
    "* 了解動態網頁的資料爬蟲策略\n",
    "* 知道非同步網頁載入機制（Ajax）\n",
    "* 學習兩種對應動態網頁爬蟲的的策略\n"
   ]
  },
  {
   "cell_type": "markdown",
   "metadata": {},
   "source": [
    "## 作業目標\n",
    "\n",
    "回答以下問題：\n",
    "\n",
    "1. 動態網頁跟靜態網頁的差別是什麼？原本靜態網頁的做法會產生什麼問題或是缺點？\n",
    "2. 還記得我們在 ETTODAY 靜態爬蟲實作練習中，有請大家完成一個題目「取出今天所有的發文」，但仔細看其實並沒有真的把當天所有的新聞都抓回來， 試著回答看看原因是什麼？及該如何檢查？\n"
   ]
  },
  {
   "cell_type": "markdown",
   "metadata": {},
   "source": [
    "### 1. 動態網頁跟靜態網頁的差別是什麼？原本靜態網頁的做法會產生什麼問題或是缺點？"
   ]
  },
  {
   "cell_type": "markdown",
   "metadata": {},
   "source": [
    "#### 動態網頁，先藉由rquest方式得到的東西存成html格式，之後可以依據想要的時間純粹取出data\n",
    "#### 靜態網頁，一次就是回傳整個網頁的所有內容..\n",
    "* 問題與缺點: 可能一來一回的傳，再加上一次是一整個網頁，所以無法即時更新，然後還需要花時間從網頁裡忙忙地爬出資料，耗時巨大"
   ]
  },
  {
   "cell_type": "markdown",
   "metadata": {},
   "source": [
    "### 2. 還記得我們在 ETTODAY 靜態爬蟲實作練習中，有請大家完成一個題目「取出今天所有的發文」，但仔細看其實並沒有真的把當天所有的新聞都抓回來， 試著回答看看原因是什麼？及該如何檢查？"
   ]
  },
  {
   "cell_type": "markdown",
   "metadata": {},
   "source": [
    "#### 的確有發現並不是爬出所有的文章，應該說就好比是我們對\"網頁使用尋找\"一樣，只會針對你開啟網頁時當下的內容去搜尋，然而對於更下面、需要加載的資料卻未考慮，使得東西並未全都抓回來\n",
    "#### 檢查的方式，我想可以先由你爬的資料，用length觀看有幾筆，之後回到該原始網頁上確認即可知道"
   ]
  },
  {
   "cell_type": "code",
   "execution_count": null,
   "metadata": {},
   "outputs": [],
   "source": []
  },
  {
   "cell_type": "code",
   "execution_count": null,
   "metadata": {},
   "outputs": [],
   "source": []
  }
 ],
 "metadata": {
  "kernelspec": {
   "display_name": "Python 3",
   "language": "python",
   "name": "python3"
  },
  "language_info": {
   "codemirror_mode": {
    "name": "ipython",
    "version": 3
   },
   "file_extension": ".py",
   "mimetype": "text/x-python",
   "name": "python",
   "nbconvert_exporter": "python",
   "pygments_lexer": "ipython3",
   "version": "3.7.3"
  }
 },
 "nbformat": 4,
 "nbformat_minor": 4
}
