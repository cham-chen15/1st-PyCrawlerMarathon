{
 "cells": [
  {
   "cell_type": "markdown",
   "metadata": {},
   "source": [
    "# Python 下載XML檔案與解析\n",
    "\n",
    "\n",
    "* 了解 xml 檔案格式與內容\n",
    "* 能夠利用套件存取 xml 格式的檔案\n"
   ]
  },
  {
   "cell_type": "markdown",
   "metadata": {},
   "source": [
    "## 作業目標\n",
    "\n",
    "* 比較一下範例檔案中的「File I/O」與「xmltodict」讀出來的內容有什麼差異\n",
    "\n",
    "* 根據範例檔案的結果：\n",
    "    1. 請問高雄市有多少地區有溫度資料？\n",
    "    2. 請取出每一個地區所記錄的第一個時間點跟溫度\n",
    "    3. 請取出第一個地區所記錄的每一個時間點跟溫度"
   ]
  },
  {
   "cell_type": "markdown",
   "metadata": {},
   "source": [
    "### 比較一下範例檔案中的「File I/O」與「xmltodict」讀出來的內容有什麼差異\n"
   ]
  },
  {
   "cell_type": "markdown",
   "metadata": {},
   "source": [
    "#### File I/O"
   ]
  },
  {
   "cell_type": "code",
   "execution_count": 61,
   "metadata": {},
   "outputs": [
    {
     "data": {
      "text/plain": [
       "str"
      ]
     },
     "execution_count": 61,
     "metadata": {},
     "output_type": "execute_result"
    }
   ],
   "source": [
    "fh = open(\"./data/64_72hr_CH.xml\",encoding='utf-8')\n",
    "xml = fh.read()\n",
    "fh.close()\n",
    "type(xml)"
   ]
  },
  {
   "cell_type": "markdown",
   "metadata": {},
   "source": [
    "#### xmltodict"
   ]
  },
  {
   "cell_type": "code",
   "execution_count": 79,
   "metadata": {},
   "outputs": [
    {
     "data": {
      "text/plain": [
       "dict"
      ]
     },
     "execution_count": 79,
     "metadata": {},
     "output_type": "execute_result"
    }
   ],
   "source": [
    "import xmltodict\n",
    "d = dict(xmltodict.parse(xml))\n",
    "type(d)"
   ]
  },
  {
   "cell_type": "markdown",
   "metadata": {},
   "source": [
    "### 根據範例檔案的結果：\n",
    "\n",
    "1. 請問高雄市有多少地區有溫度資料？\n",
    "2. 請取出每一個地區所記錄的第一個時間點跟溫度\n",
    "3. 請取出第一個地區所記錄的每一個時間點跟溫度"
   ]
  },
  {
   "cell_type": "code",
   "execution_count": 156,
   "metadata": {},
   "outputs": [
    {
     "name": "stdout",
     "output_type": "stream",
     "text": [
      "<class 'collections.OrderedDict'>\n",
      "高雄市\n",
      "<class 'list'>\n",
      "38\n",
      "鹽埕區\n",
      "鼓山區\n",
      "左營區\n",
      "楠梓區\n",
      "三民區\n",
      "新興區\n",
      "前金區\n",
      "苓雅區\n",
      "前鎮區\n",
      "旗津區\n",
      "小港區\n",
      "鳳山區\n",
      "林園區\n",
      "大寮區\n",
      "大樹區\n",
      "大社區\n",
      "仁武區\n",
      "鳥松區\n",
      "岡山區\n",
      "橋頭區\n",
      "燕巢區\n",
      "田寮區\n",
      "阿蓮區\n",
      "路竹區\n",
      "湖內區\n",
      "茄萣區\n",
      "永安區\n",
      "彌陀區\n",
      "梓官區\n",
      "旗山區\n",
      "美濃區\n",
      "六龜區\n",
      "甲仙區\n",
      "杉林區\n",
      "內門區\n",
      "茂林區\n",
      "桃源區\n",
      "那瑪夏區\n"
     ]
    }
   ],
   "source": [
    "# 1. 請問高雄市有多少地區有溫度資料？\n",
    "print(type(d['cwbopendata']['dataset']['locations'])) # 有次序的dict 可以往下選內容\n",
    "print(d['cwbopendata']['dataset']['locations']['locationsName']) # type is str\n",
    "print(type(d['cwbopendata']['dataset']['locations']['location'])) # 是list, 表示有很多 location 的字典, 要用index取選\n",
    "\n",
    "'''正式code'''\n",
    "print(len(d['cwbopendata']['dataset']['locations']['location'])) \n",
    "for i in range(38): # 有很多\"location\" key,要用list[] 去選取你要的\n",
    "    print(d['cwbopendata']['dataset']['locations']['location'][i]['locationName'])"
   ]
  },
  {
   "cell_type": "code",
   "execution_count": 157,
   "metadata": {},
   "outputs": [
    {
     "name": "stdout",
     "output_type": "stream",
     "text": [
      "<class 'collections.OrderedDict'>\n",
      "鹽埕區 2019-11-28T18:00:00+08:00 24\n",
      "鼓山區 2019-11-28T18:00:00+08:00 24\n",
      "左營區 2019-11-28T18:00:00+08:00 24\n",
      "楠梓區 2019-11-28T18:00:00+08:00 24\n",
      "三民區 2019-11-28T18:00:00+08:00 24\n",
      "新興區 2019-11-28T18:00:00+08:00 25\n",
      "前金區 2019-11-28T18:00:00+08:00 24\n",
      "苓雅區 2019-11-28T18:00:00+08:00 25\n",
      "前鎮區 2019-11-28T18:00:00+08:00 25\n",
      "旗津區 2019-11-28T18:00:00+08:00 24\n",
      "小港區 2019-11-28T18:00:00+08:00 25\n",
      "鳳山區 2019-11-28T18:00:00+08:00 25\n",
      "林園區 2019-11-28T18:00:00+08:00 25\n",
      "大寮區 2019-11-28T18:00:00+08:00 25\n",
      "大樹區 2019-11-28T18:00:00+08:00 24\n",
      "大社區 2019-11-28T18:00:00+08:00 24\n",
      "仁武區 2019-11-28T18:00:00+08:00 24\n",
      "鳥松區 2019-11-28T18:00:00+08:00 24\n",
      "岡山區 2019-11-28T18:00:00+08:00 24\n",
      "橋頭區 2019-11-28T18:00:00+08:00 24\n",
      "燕巢區 2019-11-28T18:00:00+08:00 23\n",
      "田寮區 2019-11-28T18:00:00+08:00 22\n",
      "阿蓮區 2019-11-28T18:00:00+08:00 22\n",
      "路竹區 2019-11-28T18:00:00+08:00 23\n",
      "湖內區 2019-11-28T18:00:00+08:00 22\n",
      "茄萣區 2019-11-28T18:00:00+08:00 22\n",
      "永安區 2019-11-28T18:00:00+08:00 22\n",
      "彌陀區 2019-11-28T18:00:00+08:00 23\n",
      "梓官區 2019-11-28T18:00:00+08:00 23\n",
      "旗山區 2019-11-28T18:00:00+08:00 22\n",
      "美濃區 2019-11-28T18:00:00+08:00 23\n",
      "六龜區 2019-11-28T18:00:00+08:00 20\n",
      "甲仙區 2019-11-28T18:00:00+08:00 19\n",
      "杉林區 2019-11-28T18:00:00+08:00 23\n",
      "內門區 2019-11-28T18:00:00+08:00 21\n",
      "茂林區 2019-11-28T18:00:00+08:00 21\n",
      "桃源區 2019-11-28T18:00:00+08:00 18\n",
      "那瑪夏區 2019-11-28T18:00:00+08:00 16\n"
     ]
    }
   ],
   "source": [
    "# 2. 請取出每一個地區所記錄的第一個時間點跟溫度\n",
    "print(type(d['cwbopendata']['dataset']['locations']['location'][0]['weatherElement'][0]['time'][0]))\n",
    "d['cwbopendata']['dataset']['locations']['location'][0]['weatherElement'][0]['time'][0]['dataTime']\n",
    "\n",
    "\"\"\"正式code\"\"\"\n",
    "L=d['cwbopendata']['dataset']['locations']['location'] # type is list\n",
    "for i in L: # 把 key 當 index 使用，好比 location0~location37 跑過一次\n",
    "    print(i['locationName'], i['weatherElement'][0]['time'][0]['dataTime'],i['weatherElement'][0]['time'][0]['elementValue']['value'])"
   ]
  },
  {
   "cell_type": "code",
   "execution_count": 178,
   "metadata": {},
   "outputs": [
    {
     "name": "stdout",
     "output_type": "stream",
     "text": [
      "鹽埕區\n",
      "2019-11-28T18:00:00+08:00   24\n",
      "2019-11-28T21:00:00+08:00   23\n",
      "2019-11-29T00:00:00+08:00   21\n",
      "2019-11-29T03:00:00+08:00   20\n",
      "2019-11-29T06:00:00+08:00   19\n",
      "2019-11-29T09:00:00+08:00   22\n",
      "2019-11-29T12:00:00+08:00   26\n",
      "2019-11-29T15:00:00+08:00   26\n",
      "2019-11-29T18:00:00+08:00   24\n",
      "2019-11-29T21:00:00+08:00   22\n",
      "2019-11-30T00:00:00+08:00   21\n",
      "2019-11-30T03:00:00+08:00   21\n",
      "2019-11-30T06:00:00+08:00   20\n",
      "2019-11-30T09:00:00+08:00   22\n",
      "2019-11-30T12:00:00+08:00   25\n",
      "2019-11-30T15:00:00+08:00   25\n",
      "2019-11-30T18:00:00+08:00   24\n",
      "2019-11-30T21:00:00+08:00   22\n",
      "2019-12-01T00:00:00+08:00   21\n",
      "2019-12-01T03:00:00+08:00   21\n",
      "2019-12-01T06:00:00+08:00   20\n",
      "2019-12-01T09:00:00+08:00   22\n",
      "2019-12-01T12:00:00+08:00   26\n",
      "2019-12-01T15:00:00+08:00   26\n"
     ]
    }
   ],
   "source": [
    "# 3. 請取出第一個地區所記錄的每一個時間點跟溫度\n",
    "place=d['cwbopendata']['dataset']['locations']['location'][0]\n",
    "print(place['locationName'])\n",
    "place_T=place['weatherElement'][0]['time']\n",
    "for k in place_T:\n",
    "    print(k['dataTime'],' ',k['elementValue']['value'])"
   ]
  },
  {
   "cell_type": "code",
   "execution_count": null,
   "metadata": {},
   "outputs": [],
   "source": []
  }
 ],
 "metadata": {
  "kernelspec": {
   "display_name": "Python 3",
   "language": "python",
   "name": "python3"
  },
  "language_info": {
   "codemirror_mode": {
    "name": "ipython",
    "version": 3
   },
   "file_extension": ".py",
   "mimetype": "text/x-python",
   "name": "python",
   "nbconvert_exporter": "python",
   "pygments_lexer": "ipython3",
   "version": "3.7.3"
  }
 },
 "nbformat": 4,
 "nbformat_minor": 4
}
