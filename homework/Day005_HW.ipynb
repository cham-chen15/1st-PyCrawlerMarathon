{
 "cells": [
  {
   "cell_type": "markdown",
   "metadata": {},
   "source": [
    "# API 資料串接 - 以 Dcard API 實作範例\n",
    "\n",
    "* 利用 urllib 套件的 urlretrieve 方法下載檔案\n",
    "* 了解 Python File I/O 讀檔、寫檔的用法\n",
    "* 能用運用資源管理器 With Statement 優化寫法"
   ]
  },
  {
   "cell_type": "markdown",
   "metadata": {},
   "source": [
    "## 作業目標\n",
    "\n",
    "* 請利用 API: https://www.dcard.tw/_api/forums/pet/posts?popular=true 回答下列問題：\n",
    "\n",
    "1. 這個 API 一次會回傳幾筆資料？每一筆資料包含哪些欄位？\n",
    "2. 取出每一筆資料的「標題」、「貼文時間」、「留言人數」、「按讚人數」\n",
    "3. 計算熱門/非熱門文章的「平均留言人數」與「平均按讚人數」"
   ]
  },
  {
   "cell_type": "code",
   "execution_count": 47,
   "metadata": {},
   "outputs": [
    {
     "name": "stdout",
     "output_type": "stream",
     "text": [
      "30\n",
      "<class 'list'>\n"
     ]
    },
    {
     "data": {
      "text/plain": [
       "dict_keys(['id', 'title', 'excerpt', 'anonymousSchool', 'anonymousDepartment', 'pinned', 'forumId', 'replyId', 'createdAt', 'updatedAt', 'commentCount', 'likeCount', 'withNickname', 'tags', 'topics', 'meta', 'forumName', 'forumAlias', 'gender', 'school', 'department', 'replyTitle', 'mediaMeta', 'reactions', 'hidden', 'customStyle', 'isSuspiciousAccount', 'layout', 'withImages', 'withVideos', 'media', 'reportReasonText', 'postAvatar'])"
      ]
     },
     "execution_count": 47,
     "metadata": {},
     "output_type": "execute_result"
    }
   ],
   "source": [
    "# 1. 這個 API 一次會回傳幾筆資料？每一筆資料包含哪些欄位？\n",
    "import requests\n",
    "import json\n",
    "r = requests.get('https://www.dcard.tw/_api/forums/pet/posts?popular=true')\n",
    "response = r.text\n",
    "\n",
    "data = json.loads(response)\n",
    "print(len(data)) # 回傳幾筆資料\n",
    "print(type(data)) # data 資料型態\n",
    "data[0].keys() # 資料的欄位"
   ]
  },
  {
   "cell_type": "code",
   "execution_count": 49,
   "metadata": {
    "collapsed": true,
    "jupyter": {
     "outputs_hidden": true
    }
   },
   "outputs": [
    {
     "name": "stdout",
     "output_type": "stream",
     "text": [
      "標題: #哈士奇 滿一歲啦 文長 滿滿的二哈\n",
      "貼文時間: 2019-11-30T16:30:51.154Z\n",
      "留言人數: 53\n",
      "按讚人數: 2383\n",
      "\n",
      "標題: 好像買太小了...\n",
      "貼文時間: 2019-12-01T08:27:28.504Z\n",
      "留言人數: 12\n",
      "按讚人數: 639\n",
      "\n",
      "標題: 原來柴犬可以那麽可愛🐕\n",
      "貼文時間: 2019-11-30T17:17:51.628Z\n",
      "留言人數: 11\n",
      "按讚人數: 245\n",
      "\n",
      "標題: 你到底是貓還是狗？\n",
      "貼文時間: 2019-11-30T14:32:06.500Z\n",
      "留言人數: 13\n",
      "按讚人數: 206\n",
      "\n",
      "標題: 我養的是工讀生？🤔\n",
      "貼文時間: 2019-12-01T02:07:09.729Z\n",
      "留言人數: 11\n",
      "按讚人數: 117\n",
      "\n",
      "標題: 如果當初這樣做 或許結局就能不同了吧\n",
      "貼文時間: 2019-12-01T00:49:18.221Z\n",
      "留言人數: 0\n",
      "按讚人數: 38\n",
      "\n",
      "標題: 小寶貝\n",
      "貼文時間: 2019-11-30T16:01:13.979Z\n",
      "留言人數: 1\n",
      "按讚人數: 35\n",
      "\n",
      "標題: #貓咪 十隻白貓九隻胖\n",
      "貼文時間: 2019-11-30T15:24:46.075Z\n",
      "留言人數: 7\n",
      "按讚人數: 33\n",
      "\n",
      "標題: 自嗨小橘貓\n",
      "貼文時間: 2019-11-30T20:21:16.782Z\n",
      "留言人數: 2\n",
      "按讚人數: 29\n",
      "\n",
      "標題: 貓咪沒在尊重男友\n",
      "貼文時間: 2019-12-01T10:44:13.896Z\n",
      "留言人數: 3\n",
      "按讚人數: 28\n",
      "\n",
      "標題: 我家阿咪的特技\n",
      "貼文時間: 2019-11-30T18:43:59.640Z\n",
      "留言人數: 4\n",
      "按讚人數: 23\n",
      "\n",
      "標題: #圖多 可愛喵喵們(⁎⁍̴̛ᴗ⁍̴̛⁎)\n",
      "貼文時間: 2019-12-01T08:44:25.791Z\n",
      "留言人數: 1\n",
      "按讚人數: 18\n",
      "\n",
      "標題: 你們吸貓，我被貓吸\n",
      "貼文時間: 2019-11-30T19:10:22.899Z\n",
      "留言人數: 0\n",
      "按讚人數: 18\n",
      "\n",
      "標題: 兔兔的睡姿⋯⋯\n",
      "貼文時間: 2019-12-01T09:01:55.400Z\n",
      "留言人數: 4\n",
      "按讚人數: 17\n",
      "\n",
      "標題: 來嘛~~來吸我啊~\n",
      "貼文時間: 2019-12-01T11:56:53.031Z\n",
      "留言人數: 1\n",
      "按讚人數: 14\n",
      "\n",
      "標題: 寵物過世碰到的外套\n",
      "貼文時間: 2019-12-01T09:23:54.879Z\n",
      "留言人數: 3\n",
      "按讚人數: 14\n",
      "\n",
      "標題: 請問⋯妳是在哈囉？\n",
      "貼文時間: 2019-11-30T19:16:39.494Z\n",
      "留言人數: 2\n",
      "按讚人數: 14\n",
      "\n",
      "標題: #貓 擁有狗靈魂的貓\n",
      "貼文時間: 2019-12-01T11:43:58.401Z\n",
      "留言人數: 2\n",
      "按讚人數: 13\n",
      "\n",
      "標題: 一隻會傳球的貓\n",
      "貼文時間: 2019-11-30T18:36:38.485Z\n",
      "留言人數: 1\n",
      "按讚人數: 13\n",
      "\n",
      "標題: 我家的紅貴賓到底是不是人轉世？\n",
      "貼文時間: 2019-12-01T06:13:52.856Z\n",
      "留言人數: 5\n",
      "按讚人數: 11\n",
      "\n",
      "標題: 虎爺公的細漢欸（小弟）\n",
      "貼文時間: 2019-11-30T19:16:31.808Z\n",
      "留言人數: 0\n",
      "按讚人數: 11\n",
      "\n",
      "標題: #協尋 玄鳳鸚鵡（已找到愛鳥 謝謝大家 謝謝好心人）\n",
      "貼文時間: 2019-12-01T05:33:55.211Z\n",
      "留言人數: 2\n",
      "按讚人數: 10\n",
      "\n",
      "標題: 可以幫幫我推上熱門嗎急尋狗啟示\n",
      "貼文時間: 2019-12-01T17:56:16.299Z\n",
      "留言人數: 0\n",
      "按讚人數: 9\n",
      "\n",
      "標題: 我養了三隻蟲？🐛\n",
      "貼文時間: 2019-12-01T12:17:06.699Z\n",
      "留言人數: 1\n",
      "按讚人數: 9\n",
      "\n",
      "標題: 睡到投降的傻布偶小貓\n",
      "貼文時間: 2019-12-01T02:10:49.971Z\n",
      "留言人數: 0\n",
      "按讚人數: 9\n",
      "\n",
      "標題: 吉娃娃才不吉敗咧\n",
      "貼文時間: 2019-12-01T09:17:16.567Z\n",
      "留言人數: 6\n",
      "按讚人數: 8\n",
      "\n",
      "標題: 淘寶寵物用品開箱&心得📦🐱\n",
      "貼文時間: 2019-12-01T06:19:59.473Z\n",
      "留言人數: 9\n",
      "按讚人數: 8\n",
      "\n",
      "標題: 公貓結紮紀錄\n",
      "貼文時間: 2019-11-30T18:29:05.363Z\n",
      "留言人數: 7\n",
      "按讚人數: 8\n",
      "\n",
      "標題: 基隆瑞芳深澳坑走失協找 拜託❗️❗️\n",
      "貼文時間: 2019-12-01T12:22:04.478Z\n",
      "留言人數: 0\n",
      "按讚人數: 7\n",
      "\n",
      "標題: 中壢/米克斯狗女兒走失\n",
      "貼文時間: 2019-12-01T10:58:09.738Z\n",
      "留言人數: 0\n",
      "按讚人數: 7\n",
      "\n"
     ]
    }
   ],
   "source": [
    "# 2. 取出每一筆資料的「標題」、「貼文時間」、「留言人數」、「按讚人數」\n",
    "\n",
    "for d in data:\n",
    "    print(\"標題:\",d['title'])\n",
    "    print(\"貼文時間:\",d['createdAt'])\n",
    "    print(\"留言人數:\",d['commentCount'])\n",
    "    print(\"按讚人數:\",d['likeCount'])\n",
    "    print('') # 不用加 \\n 本身print就有 換行功能"
   ]
  },
  {
   "cell_type": "code",
   "execution_count": 50,
   "metadata": {},
   "outputs": [
    {
     "data": {
      "text/plain": [
       "int"
      ]
     },
     "execution_count": 50,
     "metadata": {},
     "output_type": "execute_result"
    }
   ],
   "source": [
    "type(data[0]['commentCount'])"
   ]
  },
  {
   "cell_type": "code",
   "execution_count": 55,
   "metadata": {},
   "outputs": [
    {
     "name": "stdout",
     "output_type": "stream",
     "text": [
      "熱門按讚平均: 139.1 熱門留言平均: 5.366666666666666 貼文數 30\n",
      "不熱門按讚平均: 5.266666666666667 不熱門留言平均: 1.3333333333333333 貼文數 30\n"
     ]
    }
   ],
   "source": [
    "# 3. 計算熱門/非熱門文章的「平均留言人數」與「平均按讚人數」\n",
    "import requests\n",
    "import json\n",
    "pop = requests.get('https://www.dcard.tw/_api/forums/pet/posts?popular=true')\n",
    "npop = requests.get('https://www.dcard.tw/_api/forums/pet/posts?popular=false')\n",
    "data_pop = json.loads(pop.text)\n",
    "data_npop = json.loads(npop.text)\n",
    "\n",
    "sumLike_pop=0\n",
    "sumCount_pop=0\n",
    "\n",
    "sumLike_npop=0\n",
    "sumCount_npop=0\n",
    "\n",
    "for i in range(len(data_pop)):  # 另一種寫法  for i in data 不能有range, len這些，直接把內部的東西當作list元素下去跑\n",
    "    sumLike_pop+=data_pop[i]['likeCount']\n",
    "    sumCount_pop+=data_pop[i]['commentCount']\n",
    "    \n",
    "for j in range(len(data_npop)):\n",
    "    sumLike_npop+=data_npop[j]['likeCount']\n",
    "    sumCount_npop+=data_npop[j]['commentCount']\n",
    "\n",
    "print('熱門按讚平均:',sumLike_pop/len(data_pop),'熱門留言平均:',sumCount_pop/len(data_pop),'貼文數',len(data_pop))\n",
    "print('不熱門按讚平均:',sumLike_npop/len(data_npop),'不熱門留言平均:',sumCount_npop/len(data_npop),'貼文數',len(data_npop))"
   ]
  },
  {
   "cell_type": "code",
   "execution_count": null,
   "metadata": {},
   "outputs": [],
   "source": []
  }
 ],
 "metadata": {
  "kernelspec": {
   "display_name": "Python 3",
   "language": "python",
   "name": "python3"
  },
  "language_info": {
   "codemirror_mode": {
    "name": "ipython",
    "version": 3
   },
   "file_extension": ".py",
   "mimetype": "text/x-python",
   "name": "python",
   "nbconvert_exporter": "python",
   "pygments_lexer": "ipython3",
   "version": "3.7.3"
  }
 },
 "nbformat": 4,
 "nbformat_minor": 4
}
