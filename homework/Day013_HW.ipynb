{
 "cells": [
  {
   "cell_type": "markdown",
   "metadata": {},
   "source": [
    "# PTT 網路爬蟲實作練習\n",
    "\n",
    "\n",
    "* 能夠利用 Request + BeatifulSour 撰寫爬蟲，並存放到合適的資料結構\n"
   ]
  },
  {
   "cell_type": "markdown",
   "metadata": {},
   "source": [
    "## 作業目標\n",
    "\n",
    "根據範例 ，完成以下問題：\n",
    "\n",
    "* ① 印出最新文章的「作者」「標題」「時間」\n",
    "* ② 印出第一頁所有文章的「作者」「標題」「時間」\n"
   ]
  },
  {
   "cell_type": "markdown",
   "metadata": {},
   "source": [
    "### ① 印出最新文章的「作者」「標題」「時間」"
   ]
  },
  {
   "cell_type": "code",
   "execution_count": 26,
   "metadata": {},
   "outputs": [
    {
     "name": "stdout",
     "output_type": "stream",
     "text": [
      "作者: Wall62 ()\n",
      "標題: [情報] 湖人打出自1985-86以來最佳開季戰績\n",
      "時間: Thu Dec 12 11:10:24 2019\n"
     ]
    }
   ],
   "source": [
    "import requests\n",
    "from bs4 import BeautifulSoup\n",
    "\n",
    "url = 'https://www.ptt.cc/bbs/NBA/index.html'\n",
    "x = requests.get(url)\n",
    "soup = BeautifulSoup(x.text, \"html5lib\")\n",
    "\n",
    "first=soup.find_all(class_=\"title\")[0] # choose the first article content\n",
    "url_first = 'https://www.ptt.cc'+first.find('a')['href'] # combine the sample code by \"d\" and \"d.find\"\n",
    "soup_first=BeautifulSoup(requests.get(url_first).text, \"html5lib\")\n",
    "\n",
    "print('作者: ' + soup_first.find_all(class_='article-meta-value')[0].text)\n",
    "print('標題: ' + soup_first.find_all(class_='article-meta-value')[2].text)\n",
    "print('時間: ' + soup_first.find_all(class_='article-meta-value')[-1].text)"
   ]
  },
  {
   "cell_type": "code",
   "execution_count": 27,
   "metadata": {},
   "outputs": [
    {
     "data": {
      "text/plain": [
       "[<span class=\"article-meta-value\">Wall62 ()</span>,\n",
       " <span class=\"article-meta-value\">NBA</span>,\n",
       " <span class=\"article-meta-value\">[情報] 湖人打出自1985-86以來最佳開季戰績</span>,\n",
       " <span class=\"article-meta-value\">Thu Dec 12 11:10:24 2019</span>]"
      ]
     },
     "execution_count": 27,
     "metadata": {},
     "output_type": "execute_result"
    }
   ],
   "source": [
    "soup_first.find_all(class_='article-meta-value')"
   ]
  },
  {
   "cell_type": "markdown",
   "metadata": {},
   "source": [
    "### ② 印出第一頁所有文章的「作者」「標題」「時間」"
   ]
  },
  {
   "cell_type": "code",
   "execution_count": 28,
   "metadata": {},
   "outputs": [
    {
     "name": "stdout",
     "output_type": "stream",
     "text": [
      "作者: Wall62 ()\n",
      "標題: [情報] 湖人打出自1985-86以來最佳開季戰績\n",
      "時間: Thu Dec 12 11:10:24 2019\n",
      "\n",
      "作者: jk182325 (萬里花我老婆)\n",
      "標題: [新聞] 重回多倫多收下冠軍戒　可愛：離開暴龍是\n",
      "時間: Thu Dec 12 11:16:25 2019\n",
      "\n",
      "作者: whj0530 (億載金城武)\n",
      "標題: [情報] Tatum:上賽季戰績不佳不是Irving的錯,全\n",
      "時間: Thu Dec 12 11:22:27 2019\n",
      "\n",
      "作者: Vedan (味丹)\n",
      "標題: [公告] 樂透取消及未來不再開啟樂透\n",
      "時間: Mon Jun 24 15:08:02 2019\n",
      "\n",
      "作者: qazwsx879345 (Rajon Rondo)\n",
      "標題: [公告] 版主上任相關事項\n",
      "時間: Fri Oct 25 10:44:03 2019\n",
      "\n",
      "作者: JerroLi (銀色小刀)\n",
      "標題: [情報] SEASON Schedule 賽程 December 19–20\n",
      "時間: Fri Nov 29 00:46:01 2019\n",
      "\n",
      "作者: dragon803 (好想去露營啊~)\n",
      "標題: [公告]是否禁止basketball top 5文章投票開始\n",
      "時間: Sun Dec  8 23:55:00 2019\n",
      "\n"
     ]
    }
   ],
   "source": [
    "for d in soup.find_all(class_=\"title\"):\n",
    "    try:\n",
    "        r = BeautifulSoup(requests.get('https://www.ptt.cc'+d.find('a')['href']).text, \"html5lib\")\n",
    "        r_content=r.find_all(class_='article-meta-value')\n",
    "        print('作者: ' + r_content[0].text)\n",
    "        print('標題: ' + r_content[2].text)\n",
    "        print('時間: ' + r_content[-1].text)\n",
    "        print('')\n",
    "    except:\n",
    "        continue"
   ]
  },
  {
   "cell_type": "markdown",
   "metadata": {},
   "source": [
    "### ③ 試著爬爬看其他版的文章"
   ]
  },
  {
   "cell_type": "code",
   "execution_count": 29,
   "metadata": {},
   "outputs": [
    {
     "name": "stdout",
     "output_type": "stream",
     "text": [
      "作者: smartystorm (檀檀)\n",
      "標題: [情報] 蝦皮雙12限時特賣1元免運\n",
      "時間: Thu Dec 12 02:23:32 2019\n",
      "\n",
      "作者: cindys2080 (J)\n",
      "標題: [情報] 上班族保健食品雙12囤貨\n",
      "時間: Thu Dec 12 02:55:52 2019\n",
      "\n",
      "作者: wi22900 (wi22900)\n",
      "標題: [情報] 萊爾富雲端超商 10%Linepoints回饋\n",
      "時間: Thu Dec 12 09:05:55 2019\n",
      "\n",
      "作者: obb70 (何AA)\n",
      "標題: [情報] 4TB 外接硬碟 2780$ 27吋螢幕4099$\n",
      "時間: Thu Dec 12 09:32:08 2019\n",
      "\n",
      "作者: gggping (值班人)\n",
      "標題: [情報] KLOOK下單買120送120\n",
      "時間: Thu Dec 12 09:41:31 2019\n",
      "\n",
      "作者: joyshe78904 (幾樓)\n",
      "標題: [情報] Line Points 1+1\n",
      "時間: Thu Dec 12 10:07:18 2019\n",
      "\n",
      "作者: Querzola (到此為止)\n",
      "標題: [情報] 五月花衛生紙\n",
      "時間: Thu Dec 12 10:28:03 2019\n",
      "\n",
      "作者: afatjie (afatjie)\n",
      "標題: [情報] 楓康行動APP瓜地馬拉美式咖啡10杯100元\n",
      "時間: Thu Dec 12 10:59:58 2019\n",
      "\n",
      "作者: Drummer14 (血族女妖)\n",
      "標題: [情報] 蝦皮雙12家用品&衛生紙0.063/抽\n",
      "時間: Thu Dec 12 11:05:25 2019\n",
      "\n",
      "作者: smin7073 (老M)\n",
      "標題: [情報] 折疊泡澡桶史上最低價？！\n",
      "時間: Thu Dec 12 11:17:13 2019\n",
      "\n",
      "作者: meatball (聽見雲動的聲音)\n",
      "標題: [情報]淘寶天貓官方店的小bug\n",
      "時間: Thu Dec 12 11:23:35 2019\n",
      "\n",
      "作者: zoey28 (會飛的魚)\n",
      "標題: [情報] myvideo尊榮黑卡888元/年\n",
      "時間: Thu Dec 12 11:27:44 2019\n",
      "\n",
      "作者: th2113 (Hao)\n",
      "標題: Re: [情報] 三商巧福集團折20 (LINE Pay 新app活動)\n",
      "時間: Thu Dec 12 11:29:10 2019\n",
      "\n",
      "作者: kadasaki (Ｋ～)\n",
      "標題: [公告] 省錢板板規 2018.10.29\n",
      "時間: Mon Jun 11 18:15:16 2018\n",
      "\n",
      "作者: kadasaki (Ｋ～)\n",
      "標題: [公告] 違規檢舉區\n",
      "時間: Sat Mar 19 22:21:20 2016\n",
      "\n",
      "作者: medama ( )\n",
      "標題: [公告] 未滿1元之集點資訊 請集中在本篇推文\n",
      "時間: Sun Nov 24 20:12:17 2019\n",
      "\n"
     ]
    }
   ],
   "source": [
    "url = 'https://www.ptt.cc/bbs/Lifeismoney/index.html'\n",
    "x = requests.get(url)\n",
    "soup = BeautifulSoup(x.text, \"html5lib\")\n",
    "for d in soup.find_all(class_=\"title\"):\n",
    "    try:\n",
    "        r = BeautifulSoup(requests.get('https://www.ptt.cc'+d.find('a')['href']).text, \"html5lib\")\n",
    "        r_content=r.find_all(class_='article-meta-value')\n",
    "        print('作者: ' + r_content[0].text)\n",
    "        print('標題: ' + r_content[2].text)\n",
    "        print('時間: ' + r_content[-1].text)\n",
    "        print('')\n",
    "    except:\n",
    "        continue"
   ]
  },
  {
   "cell_type": "code",
   "execution_count": null,
   "metadata": {},
   "outputs": [],
   "source": []
  }
 ],
 "metadata": {
  "kernelspec": {
   "display_name": "Python 3",
   "language": "python",
   "name": "python3"
  },
  "language_info": {
   "codemirror_mode": {
    "name": "ipython",
    "version": 3
   },
   "file_extension": ".py",
   "mimetype": "text/x-python",
   "name": "python",
   "nbconvert_exporter": "python",
   "pygments_lexer": "ipython3",
   "version": "3.7.3"
  }
 },
 "nbformat": 4,
 "nbformat_minor": 4
}
